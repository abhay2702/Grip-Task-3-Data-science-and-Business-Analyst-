{
 "cells": [
  {
   "cell_type": "markdown",
   "id": "e98d5110",
   "metadata": {},
   "source": [
    "# NAME: ABHAY UPADHYAYA\n",
    "# BATCH: OCTOBER 2021\n",
    "# TASK 3"
   ]
  },
  {
   "cell_type": "markdown",
   "id": "6db93cdb",
   "metadata": {},
   "source": [
    "# Perform ‘Exploratory Data Analysis’ on dataset ‘SampleSuperstore’"
   ]
  },
  {
   "cell_type": "markdown",
   "id": "2b455495",
   "metadata": {},
   "source": [
    "OBJECTIVES\n",
    "\n",
    "1.As a business manager, try to find out the weak areas where you can work to make more profit.\n",
    "\n",
    "2.What all business problems you can derive by exploring the data"
   ]
  },
  {
   "cell_type": "code",
   "execution_count": 1,
   "id": "37e01706",
   "metadata": {},
   "outputs": [],
   "source": [
    "# importing necessary modules\n",
    "import numpy as np\n",
    "import pandas as pd\n",
    "import matplotlib.pyplot as plt\n",
    "%matplotlib inline\n",
    "import seaborn as sns"
   ]
  },
  {
   "cell_type": "code",
   "execution_count": 2,
   "id": "3c2125cf",
   "metadata": {},
   "outputs": [],
   "source": [
    "import warnings\n",
    "warnings.filterwarnings('ignore')"
   ]
  },
  {
   "cell_type": "code",
   "execution_count": 3,
   "id": "00d8d785",
   "metadata": {},
   "outputs": [
    {
     "data": {
      "text/html": [
       "<svg  width=\"550\" height=\"55\"><rect x=\"0\" y=\"0\" width=\"55\" height=\"55\" style=\"fill:#1f77b4;stroke-width:2;stroke:rgb(255,255,255)\"/><rect x=\"55\" y=\"0\" width=\"55\" height=\"55\" style=\"fill:#ff7f0e;stroke-width:2;stroke:rgb(255,255,255)\"/><rect x=\"110\" y=\"0\" width=\"55\" height=\"55\" style=\"fill:#2ca02c;stroke-width:2;stroke:rgb(255,255,255)\"/><rect x=\"165\" y=\"0\" width=\"55\" height=\"55\" style=\"fill:#d62728;stroke-width:2;stroke:rgb(255,255,255)\"/><rect x=\"220\" y=\"0\" width=\"55\" height=\"55\" style=\"fill:#9467bd;stroke-width:2;stroke:rgb(255,255,255)\"/><rect x=\"275\" y=\"0\" width=\"55\" height=\"55\" style=\"fill:#8c564b;stroke-width:2;stroke:rgb(255,255,255)\"/><rect x=\"330\" y=\"0\" width=\"55\" height=\"55\" style=\"fill:#e377c2;stroke-width:2;stroke:rgb(255,255,255)\"/><rect x=\"385\" y=\"0\" width=\"55\" height=\"55\" style=\"fill:#7f7f7f;stroke-width:2;stroke:rgb(255,255,255)\"/><rect x=\"440\" y=\"0\" width=\"55\" height=\"55\" style=\"fill:#bcbd22;stroke-width:2;stroke:rgb(255,255,255)\"/><rect x=\"495\" y=\"0\" width=\"55\" height=\"55\" style=\"fill:#17becf;stroke-width:2;stroke:rgb(255,255,255)\"/></svg>"
      ],
      "text/plain": [
       "[(0.12156862745098039, 0.4666666666666667, 0.7058823529411765),\n",
       " (1.0, 0.4980392156862745, 0.054901960784313725),\n",
       " (0.17254901960784313, 0.6274509803921569, 0.17254901960784313),\n",
       " (0.8392156862745098, 0.15294117647058825, 0.1568627450980392),\n",
       " (0.5803921568627451, 0.403921568627451, 0.7411764705882353),\n",
       " (0.5490196078431373, 0.33725490196078434, 0.29411764705882354),\n",
       " (0.8901960784313725, 0.4666666666666667, 0.7607843137254902),\n",
       " (0.4980392156862745, 0.4980392156862745, 0.4980392156862745),\n",
       " (0.7372549019607844, 0.7411764705882353, 0.13333333333333333),\n",
       " (0.09019607843137255, 0.7450980392156863, 0.8117647058823529)]"
      ]
     },
     "execution_count": 3,
     "metadata": {},
     "output_type": "execute_result"
    }
   ],
   "source": [
    "sns.color_palette(\"tab10\")"
   ]
  },
  {
   "cell_type": "markdown",
   "id": "a9afae7d",
   "metadata": {},
   "source": [
    "# READING DATASET "
   ]
  },
  {
   "cell_type": "code",
   "execution_count": 4,
   "id": "81123171",
   "metadata": {},
   "outputs": [
    {
     "data": {
      "text/html": [
       "<div>\n",
       "<style scoped>\n",
       "    .dataframe tbody tr th:only-of-type {\n",
       "        vertical-align: middle;\n",
       "    }\n",
       "\n",
       "    .dataframe tbody tr th {\n",
       "        vertical-align: top;\n",
       "    }\n",
       "\n",
       "    .dataframe thead th {\n",
       "        text-align: right;\n",
       "    }\n",
       "</style>\n",
       "<table border=\"1\" class=\"dataframe\">\n",
       "  <thead>\n",
       "    <tr style=\"text-align: right;\">\n",
       "      <th></th>\n",
       "      <th>Ship Mode</th>\n",
       "      <th>Segment</th>\n",
       "      <th>Country</th>\n",
       "      <th>City</th>\n",
       "      <th>State</th>\n",
       "      <th>Postal Code</th>\n",
       "      <th>Region</th>\n",
       "      <th>Category</th>\n",
       "      <th>Sub-Category</th>\n",
       "      <th>Sales</th>\n",
       "      <th>Quantity</th>\n",
       "      <th>Discount</th>\n",
       "      <th>Profit</th>\n",
       "    </tr>\n",
       "  </thead>\n",
       "  <tbody>\n",
       "    <tr>\n",
       "      <th>0</th>\n",
       "      <td>Second Class</td>\n",
       "      <td>Consumer</td>\n",
       "      <td>United States</td>\n",
       "      <td>Henderson</td>\n",
       "      <td>Kentucky</td>\n",
       "      <td>42420</td>\n",
       "      <td>South</td>\n",
       "      <td>Furniture</td>\n",
       "      <td>Bookcases</td>\n",
       "      <td>261.9600</td>\n",
       "      <td>2</td>\n",
       "      <td>0.00</td>\n",
       "      <td>41.9136</td>\n",
       "    </tr>\n",
       "    <tr>\n",
       "      <th>1</th>\n",
       "      <td>Second Class</td>\n",
       "      <td>Consumer</td>\n",
       "      <td>United States</td>\n",
       "      <td>Henderson</td>\n",
       "      <td>Kentucky</td>\n",
       "      <td>42420</td>\n",
       "      <td>South</td>\n",
       "      <td>Furniture</td>\n",
       "      <td>Chairs</td>\n",
       "      <td>731.9400</td>\n",
       "      <td>3</td>\n",
       "      <td>0.00</td>\n",
       "      <td>219.5820</td>\n",
       "    </tr>\n",
       "    <tr>\n",
       "      <th>2</th>\n",
       "      <td>Second Class</td>\n",
       "      <td>Corporate</td>\n",
       "      <td>United States</td>\n",
       "      <td>Los Angeles</td>\n",
       "      <td>California</td>\n",
       "      <td>90036</td>\n",
       "      <td>West</td>\n",
       "      <td>Office Supplies</td>\n",
       "      <td>Labels</td>\n",
       "      <td>14.6200</td>\n",
       "      <td>2</td>\n",
       "      <td>0.00</td>\n",
       "      <td>6.8714</td>\n",
       "    </tr>\n",
       "    <tr>\n",
       "      <th>3</th>\n",
       "      <td>Standard Class</td>\n",
       "      <td>Consumer</td>\n",
       "      <td>United States</td>\n",
       "      <td>Fort Lauderdale</td>\n",
       "      <td>Florida</td>\n",
       "      <td>33311</td>\n",
       "      <td>South</td>\n",
       "      <td>Furniture</td>\n",
       "      <td>Tables</td>\n",
       "      <td>957.5775</td>\n",
       "      <td>5</td>\n",
       "      <td>0.45</td>\n",
       "      <td>-383.0310</td>\n",
       "    </tr>\n",
       "    <tr>\n",
       "      <th>4</th>\n",
       "      <td>Standard Class</td>\n",
       "      <td>Consumer</td>\n",
       "      <td>United States</td>\n",
       "      <td>Fort Lauderdale</td>\n",
       "      <td>Florida</td>\n",
       "      <td>33311</td>\n",
       "      <td>South</td>\n",
       "      <td>Office Supplies</td>\n",
       "      <td>Storage</td>\n",
       "      <td>22.3680</td>\n",
       "      <td>2</td>\n",
       "      <td>0.20</td>\n",
       "      <td>2.5164</td>\n",
       "    </tr>\n",
       "  </tbody>\n",
       "</table>\n",
       "</div>"
      ],
      "text/plain": [
       "        Ship Mode    Segment        Country             City       State  \\\n",
       "0    Second Class   Consumer  United States        Henderson    Kentucky   \n",
       "1    Second Class   Consumer  United States        Henderson    Kentucky   \n",
       "2    Second Class  Corporate  United States      Los Angeles  California   \n",
       "3  Standard Class   Consumer  United States  Fort Lauderdale     Florida   \n",
       "4  Standard Class   Consumer  United States  Fort Lauderdale     Florida   \n",
       "\n",
       "   Postal Code Region         Category Sub-Category     Sales  Quantity  \\\n",
       "0        42420  South        Furniture    Bookcases  261.9600         2   \n",
       "1        42420  South        Furniture       Chairs  731.9400         3   \n",
       "2        90036   West  Office Supplies       Labels   14.6200         2   \n",
       "3        33311  South        Furniture       Tables  957.5775         5   \n",
       "4        33311  South  Office Supplies      Storage   22.3680         2   \n",
       "\n",
       "   Discount    Profit  \n",
       "0      0.00   41.9136  \n",
       "1      0.00  219.5820  \n",
       "2      0.00    6.8714  \n",
       "3      0.45 -383.0310  \n",
       "4      0.20    2.5164  "
      ]
     },
     "execution_count": 4,
     "metadata": {},
     "output_type": "execute_result"
    }
   ],
   "source": [
    "#READING DATASET AND DISPLAYING IT\n",
    "data = pd.read_csv('Downloads/SampleSuperstore.csv')\n",
    "data.head()"
   ]
  },
  {
   "cell_type": "code",
   "execution_count": 5,
   "id": "a7e14b66",
   "metadata": {},
   "outputs": [
    {
     "data": {
      "text/html": [
       "<div>\n",
       "<style scoped>\n",
       "    .dataframe tbody tr th:only-of-type {\n",
       "        vertical-align: middle;\n",
       "    }\n",
       "\n",
       "    .dataframe tbody tr th {\n",
       "        vertical-align: top;\n",
       "    }\n",
       "\n",
       "    .dataframe thead th {\n",
       "        text-align: right;\n",
       "    }\n",
       "</style>\n",
       "<table border=\"1\" class=\"dataframe\">\n",
       "  <thead>\n",
       "    <tr style=\"text-align: right;\">\n",
       "      <th></th>\n",
       "      <th>Ship Mode</th>\n",
       "      <th>Segment</th>\n",
       "      <th>Country</th>\n",
       "      <th>City</th>\n",
       "      <th>State</th>\n",
       "      <th>Postal Code</th>\n",
       "      <th>Region</th>\n",
       "      <th>Category</th>\n",
       "      <th>Sub-Category</th>\n",
       "      <th>Sales</th>\n",
       "      <th>Quantity</th>\n",
       "      <th>Discount</th>\n",
       "      <th>Profit</th>\n",
       "    </tr>\n",
       "  </thead>\n",
       "  <tbody>\n",
       "    <tr>\n",
       "      <th>9989</th>\n",
       "      <td>Second Class</td>\n",
       "      <td>Consumer</td>\n",
       "      <td>United States</td>\n",
       "      <td>Miami</td>\n",
       "      <td>Florida</td>\n",
       "      <td>33180</td>\n",
       "      <td>South</td>\n",
       "      <td>Furniture</td>\n",
       "      <td>Furnishings</td>\n",
       "      <td>25.248</td>\n",
       "      <td>3</td>\n",
       "      <td>0.2</td>\n",
       "      <td>4.1028</td>\n",
       "    </tr>\n",
       "    <tr>\n",
       "      <th>9990</th>\n",
       "      <td>Standard Class</td>\n",
       "      <td>Consumer</td>\n",
       "      <td>United States</td>\n",
       "      <td>Costa Mesa</td>\n",
       "      <td>California</td>\n",
       "      <td>92627</td>\n",
       "      <td>West</td>\n",
       "      <td>Furniture</td>\n",
       "      <td>Furnishings</td>\n",
       "      <td>91.960</td>\n",
       "      <td>2</td>\n",
       "      <td>0.0</td>\n",
       "      <td>15.6332</td>\n",
       "    </tr>\n",
       "    <tr>\n",
       "      <th>9991</th>\n",
       "      <td>Standard Class</td>\n",
       "      <td>Consumer</td>\n",
       "      <td>United States</td>\n",
       "      <td>Costa Mesa</td>\n",
       "      <td>California</td>\n",
       "      <td>92627</td>\n",
       "      <td>West</td>\n",
       "      <td>Technology</td>\n",
       "      <td>Phones</td>\n",
       "      <td>258.576</td>\n",
       "      <td>2</td>\n",
       "      <td>0.2</td>\n",
       "      <td>19.3932</td>\n",
       "    </tr>\n",
       "    <tr>\n",
       "      <th>9992</th>\n",
       "      <td>Standard Class</td>\n",
       "      <td>Consumer</td>\n",
       "      <td>United States</td>\n",
       "      <td>Costa Mesa</td>\n",
       "      <td>California</td>\n",
       "      <td>92627</td>\n",
       "      <td>West</td>\n",
       "      <td>Office Supplies</td>\n",
       "      <td>Paper</td>\n",
       "      <td>29.600</td>\n",
       "      <td>4</td>\n",
       "      <td>0.0</td>\n",
       "      <td>13.3200</td>\n",
       "    </tr>\n",
       "    <tr>\n",
       "      <th>9993</th>\n",
       "      <td>Second Class</td>\n",
       "      <td>Consumer</td>\n",
       "      <td>United States</td>\n",
       "      <td>Westminster</td>\n",
       "      <td>California</td>\n",
       "      <td>92683</td>\n",
       "      <td>West</td>\n",
       "      <td>Office Supplies</td>\n",
       "      <td>Appliances</td>\n",
       "      <td>243.160</td>\n",
       "      <td>2</td>\n",
       "      <td>0.0</td>\n",
       "      <td>72.9480</td>\n",
       "    </tr>\n",
       "  </tbody>\n",
       "</table>\n",
       "</div>"
      ],
      "text/plain": [
       "           Ship Mode   Segment        Country         City       State  \\\n",
       "9989    Second Class  Consumer  United States        Miami     Florida   \n",
       "9990  Standard Class  Consumer  United States   Costa Mesa  California   \n",
       "9991  Standard Class  Consumer  United States   Costa Mesa  California   \n",
       "9992  Standard Class  Consumer  United States   Costa Mesa  California   \n",
       "9993    Second Class  Consumer  United States  Westminster  California   \n",
       "\n",
       "      Postal Code Region         Category Sub-Category    Sales  Quantity  \\\n",
       "9989        33180  South        Furniture  Furnishings   25.248         3   \n",
       "9990        92627   West        Furniture  Furnishings   91.960         2   \n",
       "9991        92627   West       Technology       Phones  258.576         2   \n",
       "9992        92627   West  Office Supplies        Paper   29.600         4   \n",
       "9993        92683   West  Office Supplies   Appliances  243.160         2   \n",
       "\n",
       "      Discount   Profit  \n",
       "9989       0.2   4.1028  \n",
       "9990       0.0  15.6332  \n",
       "9991       0.2  19.3932  \n",
       "9992       0.0  13.3200  \n",
       "9993       0.0  72.9480  "
      ]
     },
     "execution_count": 5,
     "metadata": {},
     "output_type": "execute_result"
    }
   ],
   "source": [
    "# last five rows\n",
    "data.tail()"
   ]
  },
  {
   "cell_type": "code",
   "execution_count": 6,
   "id": "36110150",
   "metadata": {},
   "outputs": [
    {
     "data": {
      "text/plain": [
       "(9994, 13)"
      ]
     },
     "execution_count": 6,
     "metadata": {},
     "output_type": "execute_result"
    }
   ],
   "source": [
    "#Shape of data\n",
    "data.shape"
   ]
  },
  {
   "cell_type": "code",
   "execution_count": 7,
   "id": "4f3de582",
   "metadata": {},
   "outputs": [
    {
     "data": {
      "text/plain": [
       "Ship Mode        object\n",
       "Segment          object\n",
       "Country          object\n",
       "City             object\n",
       "State            object\n",
       "Postal Code       int64\n",
       "Region           object\n",
       "Category         object\n",
       "Sub-Category     object\n",
       "Sales           float64\n",
       "Quantity          int64\n",
       "Discount        float64\n",
       "Profit          float64\n",
       "dtype: object"
      ]
     },
     "execution_count": 7,
     "metadata": {},
     "output_type": "execute_result"
    }
   ],
   "source": [
    "#DATATYPES\n",
    "data.dtypes"
   ]
  },
  {
   "cell_type": "code",
   "execution_count": 8,
   "id": "b2153331",
   "metadata": {},
   "outputs": [
    {
     "name": "stdout",
     "output_type": "stream",
     "text": [
      "<class 'pandas.core.frame.DataFrame'>\n",
      "RangeIndex: 9994 entries, 0 to 9993\n",
      "Data columns (total 13 columns):\n",
      " #   Column        Non-Null Count  Dtype  \n",
      "---  ------        --------------  -----  \n",
      " 0   Ship Mode     9994 non-null   object \n",
      " 1   Segment       9994 non-null   object \n",
      " 2   Country       9994 non-null   object \n",
      " 3   City          9994 non-null   object \n",
      " 4   State         9994 non-null   object \n",
      " 5   Postal Code   9994 non-null   int64  \n",
      " 6   Region        9994 non-null   object \n",
      " 7   Category      9994 non-null   object \n",
      " 8   Sub-Category  9994 non-null   object \n",
      " 9   Sales         9994 non-null   float64\n",
      " 10  Quantity      9994 non-null   int64  \n",
      " 11  Discount      9994 non-null   float64\n",
      " 12  Profit        9994 non-null   float64\n",
      "dtypes: float64(3), int64(2), object(8)\n",
      "memory usage: 1015.1+ KB\n"
     ]
    }
   ],
   "source": [
    "#SUMMARY OF DATA\n",
    "data.info()"
   ]
  },
  {
   "cell_type": "code",
   "execution_count": 9,
   "id": "e7e27cf0",
   "metadata": {},
   "outputs": [
    {
     "data": {
      "text/html": [
       "<div>\n",
       "<style scoped>\n",
       "    .dataframe tbody tr th:only-of-type {\n",
       "        vertical-align: middle;\n",
       "    }\n",
       "\n",
       "    .dataframe tbody tr th {\n",
       "        vertical-align: top;\n",
       "    }\n",
       "\n",
       "    .dataframe thead th {\n",
       "        text-align: right;\n",
       "    }\n",
       "</style>\n",
       "<table border=\"1\" class=\"dataframe\">\n",
       "  <thead>\n",
       "    <tr style=\"text-align: right;\">\n",
       "      <th></th>\n",
       "      <th>Postal Code</th>\n",
       "      <th>Sales</th>\n",
       "      <th>Quantity</th>\n",
       "      <th>Discount</th>\n",
       "      <th>Profit</th>\n",
       "    </tr>\n",
       "  </thead>\n",
       "  <tbody>\n",
       "    <tr>\n",
       "      <th>count</th>\n",
       "      <td>9994.000000</td>\n",
       "      <td>9994.000000</td>\n",
       "      <td>9994.000000</td>\n",
       "      <td>9994.000000</td>\n",
       "      <td>9994.000000</td>\n",
       "    </tr>\n",
       "    <tr>\n",
       "      <th>mean</th>\n",
       "      <td>55190.379428</td>\n",
       "      <td>229.858001</td>\n",
       "      <td>3.789574</td>\n",
       "      <td>0.156203</td>\n",
       "      <td>28.656896</td>\n",
       "    </tr>\n",
       "    <tr>\n",
       "      <th>std</th>\n",
       "      <td>32063.693350</td>\n",
       "      <td>623.245101</td>\n",
       "      <td>2.225110</td>\n",
       "      <td>0.206452</td>\n",
       "      <td>234.260108</td>\n",
       "    </tr>\n",
       "    <tr>\n",
       "      <th>min</th>\n",
       "      <td>1040.000000</td>\n",
       "      <td>0.444000</td>\n",
       "      <td>1.000000</td>\n",
       "      <td>0.000000</td>\n",
       "      <td>-6599.978000</td>\n",
       "    </tr>\n",
       "    <tr>\n",
       "      <th>25%</th>\n",
       "      <td>23223.000000</td>\n",
       "      <td>17.280000</td>\n",
       "      <td>2.000000</td>\n",
       "      <td>0.000000</td>\n",
       "      <td>1.728750</td>\n",
       "    </tr>\n",
       "    <tr>\n",
       "      <th>50%</th>\n",
       "      <td>56430.500000</td>\n",
       "      <td>54.490000</td>\n",
       "      <td>3.000000</td>\n",
       "      <td>0.200000</td>\n",
       "      <td>8.666500</td>\n",
       "    </tr>\n",
       "    <tr>\n",
       "      <th>75%</th>\n",
       "      <td>90008.000000</td>\n",
       "      <td>209.940000</td>\n",
       "      <td>5.000000</td>\n",
       "      <td>0.200000</td>\n",
       "      <td>29.364000</td>\n",
       "    </tr>\n",
       "    <tr>\n",
       "      <th>max</th>\n",
       "      <td>99301.000000</td>\n",
       "      <td>22638.480000</td>\n",
       "      <td>14.000000</td>\n",
       "      <td>0.800000</td>\n",
       "      <td>8399.976000</td>\n",
       "    </tr>\n",
       "  </tbody>\n",
       "</table>\n",
       "</div>"
      ],
      "text/plain": [
       "        Postal Code         Sales     Quantity     Discount       Profit\n",
       "count   9994.000000   9994.000000  9994.000000  9994.000000  9994.000000\n",
       "mean   55190.379428    229.858001     3.789574     0.156203    28.656896\n",
       "std    32063.693350    623.245101     2.225110     0.206452   234.260108\n",
       "min     1040.000000      0.444000     1.000000     0.000000 -6599.978000\n",
       "25%    23223.000000     17.280000     2.000000     0.000000     1.728750\n",
       "50%    56430.500000     54.490000     3.000000     0.200000     8.666500\n",
       "75%    90008.000000    209.940000     5.000000     0.200000    29.364000\n",
       "max    99301.000000  22638.480000    14.000000     0.800000  8399.976000"
      ]
     },
     "execution_count": 9,
     "metadata": {},
     "output_type": "execute_result"
    }
   ],
   "source": [
    "# DESCRIPTION OF DATA\n",
    "data.describe()"
   ]
  },
  {
   "cell_type": "code",
   "execution_count": 10,
   "id": "7396695b",
   "metadata": {},
   "outputs": [
    {
     "data": {
      "text/html": [
       "<div>\n",
       "<style scoped>\n",
       "    .dataframe tbody tr th:only-of-type {\n",
       "        vertical-align: middle;\n",
       "    }\n",
       "\n",
       "    .dataframe tbody tr th {\n",
       "        vertical-align: top;\n",
       "    }\n",
       "\n",
       "    .dataframe thead th {\n",
       "        text-align: right;\n",
       "    }\n",
       "</style>\n",
       "<table border=\"1\" class=\"dataframe\">\n",
       "  <thead>\n",
       "    <tr style=\"text-align: right;\">\n",
       "      <th></th>\n",
       "      <th>Postal Code</th>\n",
       "      <th>Sales</th>\n",
       "      <th>Quantity</th>\n",
       "      <th>Discount</th>\n",
       "      <th>Profit</th>\n",
       "    </tr>\n",
       "  </thead>\n",
       "  <tbody>\n",
       "    <tr>\n",
       "      <th>Postal Code</th>\n",
       "      <td>1.000000</td>\n",
       "      <td>-0.023854</td>\n",
       "      <td>0.012761</td>\n",
       "      <td>0.058443</td>\n",
       "      <td>-0.029961</td>\n",
       "    </tr>\n",
       "    <tr>\n",
       "      <th>Sales</th>\n",
       "      <td>-0.023854</td>\n",
       "      <td>1.000000</td>\n",
       "      <td>0.200795</td>\n",
       "      <td>-0.028190</td>\n",
       "      <td>0.479064</td>\n",
       "    </tr>\n",
       "    <tr>\n",
       "      <th>Quantity</th>\n",
       "      <td>0.012761</td>\n",
       "      <td>0.200795</td>\n",
       "      <td>1.000000</td>\n",
       "      <td>0.008623</td>\n",
       "      <td>0.066253</td>\n",
       "    </tr>\n",
       "    <tr>\n",
       "      <th>Discount</th>\n",
       "      <td>0.058443</td>\n",
       "      <td>-0.028190</td>\n",
       "      <td>0.008623</td>\n",
       "      <td>1.000000</td>\n",
       "      <td>-0.219487</td>\n",
       "    </tr>\n",
       "    <tr>\n",
       "      <th>Profit</th>\n",
       "      <td>-0.029961</td>\n",
       "      <td>0.479064</td>\n",
       "      <td>0.066253</td>\n",
       "      <td>-0.219487</td>\n",
       "      <td>1.000000</td>\n",
       "    </tr>\n",
       "  </tbody>\n",
       "</table>\n",
       "</div>"
      ],
      "text/plain": [
       "             Postal Code     Sales  Quantity  Discount    Profit\n",
       "Postal Code     1.000000 -0.023854  0.012761  0.058443 -0.029961\n",
       "Sales          -0.023854  1.000000  0.200795 -0.028190  0.479064\n",
       "Quantity        0.012761  0.200795  1.000000  0.008623  0.066253\n",
       "Discount        0.058443 -0.028190  0.008623  1.000000 -0.219487\n",
       "Profit         -0.029961  0.479064  0.066253 -0.219487  1.000000"
      ]
     },
     "execution_count": 10,
     "metadata": {},
     "output_type": "execute_result"
    }
   ],
   "source": [
    "#CHECKING CORELATION\n",
    "data.corr(method='pearson')"
   ]
  },
  {
   "cell_type": "code",
   "execution_count": 11,
   "id": "69feaed1",
   "metadata": {},
   "outputs": [
    {
     "data": {
      "text/plain": [
       "Ship Mode       0\n",
       "Segment         0\n",
       "Country         0\n",
       "City            0\n",
       "State           0\n",
       "Postal Code     0\n",
       "Region          0\n",
       "Category        0\n",
       "Sub-Category    0\n",
       "Sales           0\n",
       "Quantity        0\n",
       "Discount        0\n",
       "Profit          0\n",
       "dtype: int64"
      ]
     },
     "execution_count": 11,
     "metadata": {},
     "output_type": "execute_result"
    }
   ],
   "source": [
    "#CHECKING FOR NULL VALUES\n",
    "data.isnull().sum()"
   ]
  },
  {
   "cell_type": "code",
   "execution_count": 12,
   "id": "df997b3a",
   "metadata": {},
   "outputs": [
    {
     "data": {
      "text/html": [
       "<div>\n",
       "<style scoped>\n",
       "    .dataframe tbody tr th:only-of-type {\n",
       "        vertical-align: middle;\n",
       "    }\n",
       "\n",
       "    .dataframe tbody tr th {\n",
       "        vertical-align: top;\n",
       "    }\n",
       "\n",
       "    .dataframe thead th {\n",
       "        text-align: right;\n",
       "    }\n",
       "</style>\n",
       "<table border=\"1\" class=\"dataframe\">\n",
       "  <thead>\n",
       "    <tr style=\"text-align: right;\">\n",
       "      <th></th>\n",
       "      <th>Ship Mode</th>\n",
       "      <th>Segment</th>\n",
       "      <th>Country</th>\n",
       "      <th>City</th>\n",
       "      <th>State</th>\n",
       "      <th>Postal Code</th>\n",
       "      <th>Region</th>\n",
       "      <th>Category</th>\n",
       "      <th>Sub-Category</th>\n",
       "      <th>Sales</th>\n",
       "      <th>Quantity</th>\n",
       "      <th>Discount</th>\n",
       "      <th>Profit</th>\n",
       "      <th>Cost</th>\n",
       "      <th>Profit%</th>\n",
       "    </tr>\n",
       "  </thead>\n",
       "  <tbody>\n",
       "    <tr>\n",
       "      <th>0</th>\n",
       "      <td>Second Class</td>\n",
       "      <td>Consumer</td>\n",
       "      <td>United States</td>\n",
       "      <td>Henderson</td>\n",
       "      <td>Kentucky</td>\n",
       "      <td>42420</td>\n",
       "      <td>South</td>\n",
       "      <td>Furniture</td>\n",
       "      <td>Bookcases</td>\n",
       "      <td>261.9600</td>\n",
       "      <td>2</td>\n",
       "      <td>0.00</td>\n",
       "      <td>41.9136</td>\n",
       "      <td>220.0464</td>\n",
       "      <td>19.047619</td>\n",
       "    </tr>\n",
       "    <tr>\n",
       "      <th>1</th>\n",
       "      <td>Second Class</td>\n",
       "      <td>Consumer</td>\n",
       "      <td>United States</td>\n",
       "      <td>Henderson</td>\n",
       "      <td>Kentucky</td>\n",
       "      <td>42420</td>\n",
       "      <td>South</td>\n",
       "      <td>Furniture</td>\n",
       "      <td>Chairs</td>\n",
       "      <td>731.9400</td>\n",
       "      <td>3</td>\n",
       "      <td>0.00</td>\n",
       "      <td>219.5820</td>\n",
       "      <td>512.3580</td>\n",
       "      <td>42.857143</td>\n",
       "    </tr>\n",
       "    <tr>\n",
       "      <th>2</th>\n",
       "      <td>Second Class</td>\n",
       "      <td>Corporate</td>\n",
       "      <td>United States</td>\n",
       "      <td>Los Angeles</td>\n",
       "      <td>California</td>\n",
       "      <td>90036</td>\n",
       "      <td>West</td>\n",
       "      <td>Office Supplies</td>\n",
       "      <td>Labels</td>\n",
       "      <td>14.6200</td>\n",
       "      <td>2</td>\n",
       "      <td>0.00</td>\n",
       "      <td>6.8714</td>\n",
       "      <td>7.7486</td>\n",
       "      <td>88.679245</td>\n",
       "    </tr>\n",
       "    <tr>\n",
       "      <th>3</th>\n",
       "      <td>Standard Class</td>\n",
       "      <td>Consumer</td>\n",
       "      <td>United States</td>\n",
       "      <td>Fort Lauderdale</td>\n",
       "      <td>Florida</td>\n",
       "      <td>33311</td>\n",
       "      <td>South</td>\n",
       "      <td>Furniture</td>\n",
       "      <td>Tables</td>\n",
       "      <td>957.5775</td>\n",
       "      <td>5</td>\n",
       "      <td>0.45</td>\n",
       "      <td>-383.0310</td>\n",
       "      <td>1340.6085</td>\n",
       "      <td>-28.571429</td>\n",
       "    </tr>\n",
       "    <tr>\n",
       "      <th>4</th>\n",
       "      <td>Standard Class</td>\n",
       "      <td>Consumer</td>\n",
       "      <td>United States</td>\n",
       "      <td>Fort Lauderdale</td>\n",
       "      <td>Florida</td>\n",
       "      <td>33311</td>\n",
       "      <td>South</td>\n",
       "      <td>Office Supplies</td>\n",
       "      <td>Storage</td>\n",
       "      <td>22.3680</td>\n",
       "      <td>2</td>\n",
       "      <td>0.20</td>\n",
       "      <td>2.5164</td>\n",
       "      <td>19.8516</td>\n",
       "      <td>12.676056</td>\n",
       "    </tr>\n",
       "  </tbody>\n",
       "</table>\n",
       "</div>"
      ],
      "text/plain": [
       "        Ship Mode    Segment        Country             City       State  \\\n",
       "0    Second Class   Consumer  United States        Henderson    Kentucky   \n",
       "1    Second Class   Consumer  United States        Henderson    Kentucky   \n",
       "2    Second Class  Corporate  United States      Los Angeles  California   \n",
       "3  Standard Class   Consumer  United States  Fort Lauderdale     Florida   \n",
       "4  Standard Class   Consumer  United States  Fort Lauderdale     Florida   \n",
       "\n",
       "   Postal Code Region         Category Sub-Category     Sales  Quantity  \\\n",
       "0        42420  South        Furniture    Bookcases  261.9600         2   \n",
       "1        42420  South        Furniture       Chairs  731.9400         3   \n",
       "2        90036   West  Office Supplies       Labels   14.6200         2   \n",
       "3        33311  South        Furniture       Tables  957.5775         5   \n",
       "4        33311  South  Office Supplies      Storage   22.3680         2   \n",
       "\n",
       "   Discount    Profit       Cost    Profit%  \n",
       "0      0.00   41.9136   220.0464  19.047619  \n",
       "1      0.00  219.5820   512.3580  42.857143  \n",
       "2      0.00    6.8714     7.7486  88.679245  \n",
       "3      0.45 -383.0310  1340.6085 -28.571429  \n",
       "4      0.20    2.5164    19.8516  12.676056  "
      ]
     },
     "execution_count": 12,
     "metadata": {},
     "output_type": "execute_result"
    }
   ],
   "source": [
    "#Calculating Cost \n",
    "data['Cost']=data['Sales']-data['Profit']\n",
    "\n",
    "#Calculating Profit%\n",
    "data['Profit%']=(data['Profit']/data['Cost'])*100\n",
    "data.head()"
   ]
  },
  {
   "cell_type": "markdown",
   "id": "de543b1b",
   "metadata": {},
   "source": [
    "# VISUALIZATIONS"
   ]
  },
  {
   "cell_type": "markdown",
   "id": "55099757",
   "metadata": {},
   "source": [
    "# Visualizing correlation using heatmap"
   ]
  },
  {
   "cell_type": "code",
   "execution_count": 13,
   "id": "cbb4bf73",
   "metadata": {},
   "outputs": [
    {
     "data": {
      "text/plain": [
       "Text(0.5, 1.0, 'CORRELATION BETWEEN VARIABLES')"
      ]
     },
     "execution_count": 13,
     "metadata": {},
     "output_type": "execute_result"
    },
    {
     "data": {
      "image/png": "[encoded data removed]",
      "text/plain": [
       "<Figure size 432x288 with 2 Axes>"
      ]
     },
     "metadata": {
      "needs_background": "light"
     },
     "output_type": "display_data"
    }
   ],
   "source": [
    "# correlation matrix and heatmap\n",
    "datacorr = data.corr()\n",
    "sns.heatmap(datacorr, annot=True, cmap='coolwarm')\n",
    "plt.title('CORRELATION BETWEEN VARIABLES')"
   ]
  },
  {
   "cell_type": "markdown",
   "id": "19cd8d1a",
   "metadata": {},
   "source": [
    "# Visualizing Top 10 sales of company"
   ]
  },
  {
   "cell_type": "code",
   "execution_count": 14,
   "id": "ea59ebd2",
   "metadata": {},
   "outputs": [
    {
     "data": {
      "text/plain": [
       "2297200.8603000003"
      ]
     },
     "execution_count": 14,
     "metadata": {},
     "output_type": "execute_result"
    }
   ],
   "source": [
    "# We will calculate sales of company\n",
    "sale = data['Sales'].sum()\n",
    "sale"
   ]
  },
  {
   "cell_type": "code",
   "execution_count": 15,
   "id": "6a94388c",
   "metadata": {},
   "outputs": [
    {
     "data": {
      "text/plain": [
       "286397.0217"
      ]
     },
     "execution_count": 15,
     "metadata": {},
     "output_type": "execute_result"
    }
   ],
   "source": [
    "# We will calculate profit of company\n",
    "profit = data['Profit'].sum()\n",
    "profit"
   ]
  },
  {
   "cell_type": "code",
   "execution_count": 16,
   "id": "8d1f55bd",
   "metadata": {},
   "outputs": [
    {
     "data": {
      "text/plain": [
       "1561.09"
      ]
     },
     "execution_count": 16,
     "metadata": {},
     "output_type": "execute_result"
    }
   ],
   "source": [
    "# We will calculate discount of company\n",
    "discount =data['Discount'].sum()\n",
    "discount"
   ]
  },
  {
   "cell_type": "code",
   "execution_count": 17,
   "id": "20667e3e",
   "metadata": {},
   "outputs": [
    {
     "data": {
      "text/plain": [
       "State\n",
       "California      457687.6315\n",
       "New York        310876.2710\n",
       "Texas           170188.0458\n",
       "Washington      138641.2700\n",
       "Pennsylvania    116511.9140\n",
       "Florida          89473.7080\n",
       "Illinois         80166.1010\n",
       "Ohio             78258.1360\n",
       "Michigan         76269.6140\n",
       "Virginia         70636.7200\n",
       "Name: Sales, dtype: float64"
      ]
     },
     "execution_count": 17,
     "metadata": {},
     "output_type": "execute_result"
    }
   ],
   "source": [
    "# We will calculate sum of top ten sales of the company\n",
    "Top_10_sales= data.groupby(\"State\").Sales.sum().nlargest(n=10)\n",
    "Top_10_sales"
   ]
  },
  {
   "cell_type": "code",
   "execution_count": 18,
   "id": "4bba260f",
   "metadata": {},
   "outputs": [
    {
     "data": {
      "image/png": "[encoded data removed]",
      "text/plain": [
       "<Figure size 576x432 with 1 Axes>"
      ]
     },
     "metadata": {
      "needs_background": "light"
     },
     "output_type": "display_data"
    }
   ],
   "source": [
    "# we will plot graph of top 10 Sales of company\n",
    "plt.figure(figsize = (10, 7))\n",
    "Top_10_sales.plot(kind ='bar',color=\"red\",figsize =(8,6), fontsize =14)\n",
    "plt.xlabel(\"States\", fontsize =13)\n",
    "plt.ylabel(\"Total Sales\",fontsize =13)\n",
    "plt.title('Top 10 Sales per State',fontsize =16)\n",
    "plt.show()"
   ]
  },
  {
   "cell_type": "markdown",
   "id": "986930cd",
   "metadata": {},
   "source": [
    "# Visualizing top 10 Profit making states"
   ]
  },
  {
   "cell_type": "code",
   "execution_count": 19,
   "id": "7814f215",
   "metadata": {},
   "outputs": [
    {
     "data": {
      "text/plain": [
       "State\n",
       "California    76381.3871\n",
       "New York      74038.5486\n",
       "Washington    33402.6517\n",
       "Michigan      24463.1876\n",
       "Virginia      18597.9504\n",
       "Indiana       18382.9363\n",
       "Georgia       16250.0433\n",
       "Kentucky      11199.6966\n",
       "Minnesota     10823.1874\n",
       "Delaware       9977.3748\n",
       "Name: Profit, dtype: float64"
      ]
     },
     "execution_count": 19,
     "metadata": {},
     "output_type": "execute_result"
    }
   ],
   "source": [
    "# We will calculate sum of top ten Profit of the company\n",
    "Top_10_profit = data.groupby(\"State\").Profit.sum().nlargest(n=10)\n",
    "Top_10_profit"
   ]
  },
  {
   "cell_type": "code",
   "execution_count": 20,
   "id": "65d06a16",
   "metadata": {},
   "outputs": [
    {
     "data": {
      "image/png": "[encoded data removed]",
      "text/plain": [
       "<Figure size 720x432 with 1 Axes>"
      ]
     },
     "metadata": {
      "needs_background": "light"
     },
     "output_type": "display_data"
    }
   ],
   "source": [
    "# we will plot graph of top 10 Profit of company\n",
    "Top_10_profit.plot(kind ='bar',color=\"green\", figsize =(10,6), fontsize =14)\n",
    "plt.xlabel(\"States\", fontsize =14)\n",
    "plt.ylabel(\"Total Profit\",fontsize =14)\n",
    "plt.title(\"Top 10 Profits per State\",fontsize =16)\n",
    "plt.show()"
   ]
  },
  {
   "cell_type": "markdown",
   "id": "f41c5f99",
   "metadata": {},
   "source": [
    "# Visualizing preffered mode of shipping"
   ]
  },
  {
   "cell_type": "code",
   "execution_count": 21,
   "id": "39297660",
   "metadata": {},
   "outputs": [
    {
     "name": "stdout",
     "output_type": "stream",
     "text": [
      "First Class\n",
      "Same Day\n",
      "Second Class\n",
      "Standard Class\n"
     ]
    }
   ],
   "source": [
    "types = data.groupby('Ship Mode')\n",
    "for i,df in types:\n",
    "    print(i)"
   ]
  },
  {
   "cell_type": "code",
   "execution_count": 22,
   "id": "d64f060d",
   "metadata": {},
   "outputs": [
    {
     "data": {
      "text/plain": [
       "{'First Class': [35, 36, 44, 45, 55, 56, 57, 58, 59, 60, 61, 69, 75, 76, 77, 79, 80, 84, 97, 119, 120, 121, 122, 123, 130, 131, 132, 151, 152, 153, 154, 155, 160, 189, 190, 191, 192, 193, 201, 202, 219, 220, 221, 222, 223, 224, 252, 253, 271, 272, 273, 274, 275, 293, 294, 295, 296, 297, 308, 316, 326, 327, 328, 329, 330, 349, 350, 351, 352, 353, 359, 360, 376, 381, 382, 388, 402, 421, 427, 433, 484, 485, 486, 487, 510, 511, 512, 522, 523, 524, 540, 541, 546, 547, 552, 563, 564, 565, 598, 610, ...], 'Same Day': [366, 367, 368, 369, 657, 658, 664, 683, 684, 746, 747, 792, 813, 814, 882, 959, 987, 1001, 1002, 1003, 1086, 1135, 1146, 1147, 1148, 1149, 1150, 1166, 1193, 1194, 1195, 1196, 1234, 1235, 1236, 1237, 1273, 1274, 1275, 1276, 1355, 1356, 1382, 1383, 1384, 1385, 1386, 1387, 1388, 1389, 1390, 1391, 1392, 1437, 1438, 1459, 1467, 1473, 1508, 1562, 1563, 1564, 1568, 1593, 1630, 1631, 1632, 1633, 1634, 1650, 1651, 1704, 1728, 1729, 1815, 1816, 1830, 1831, 1847, 1848, 1862, 1865, 1880, 1881, 1882, 1979, 1980, 2011, 2012, 2102, 2106, 2107, 2108, 2109, 2110, 2111, 2112, 2113, 2114, 2115, ...], 'Second Class': [0, 1, 2, 17, 18, 19, 20, 23, 25, 26, 34, 46, 71, 78, 85, 88, 92, 93, 94, 96, 102, 113, 114, 115, 116, 124, 128, 129, 140, 157, 161, 176, 177, 178, 180, 181, 182, 183, 184, 203, 211, 237, 238, 239, 240, 241, 242, 243, 244, 245, 246, 247, 248, 249, 258, 259, 260, 262, 263, 270, 280, 281, 286, 287, 288, 289, 290, 291, 292, 304, 309, 310, 311, 312, 325, 331, 332, 333, 334, 335, 336, 339, 340, 341, 342, 343, 383, 391, 392, 393, 395, 396, 398, 399, 400, 401, 424, 425, 426, 436, ...], 'Standard Class': [3, 4, 5, 6, 7, 8, 9, 10, 11, 12, 13, 14, 15, 16, 21, 22, 24, 27, 28, 29, 30, 31, 32, 33, 37, 38, 39, 40, 41, 42, 43, 47, 48, 49, 50, 51, 52, 53, 54, 62, 63, 64, 65, 66, 67, 68, 70, 72, 73, 74, 81, 82, 83, 86, 87, 89, 90, 91, 95, 98, 99, 100, 101, 103, 104, 105, 106, 107, 108, 109, 110, 111, 112, 117, 118, 125, 126, 127, 133, 134, 135, 136, 137, 138, 139, 141, 142, 143, 144, 145, 146, 147, 148, 149, 150, 156, 158, 159, 162, 163, ...]}"
      ]
     },
     "execution_count": 22,
     "metadata": {},
     "output_type": "execute_result"
    }
   ],
   "source": [
    "data.groupby('Ship Mode').groups"
   ]
  },
  {
   "cell_type": "code",
   "execution_count": 23,
   "id": "3d9633e3",
   "metadata": {},
   "outputs": [
    {
     "data": {
      "text/plain": [
       "Standard Class    5968\n",
       "Second Class      1945\n",
       "First Class       1538\n",
       "Same Day           543\n",
       "Name: Ship Mode, dtype: int64"
      ]
     },
     "execution_count": 23,
     "metadata": {},
     "output_type": "execute_result"
    }
   ],
   "source": [
    "data['Ship Mode'].value_counts()"
   ]
  },
  {
   "cell_type": "code",
   "execution_count": 24,
   "id": "4be4e60f",
   "metadata": {},
   "outputs": [
    {
     "data": {
      "text/plain": [
       "Text(0.5, 1.0, 'Ship Mode Preference')"
      ]
     },
     "execution_count": 24,
     "metadata": {},
     "output_type": "execute_result"
    },
    {
     "data": {
      "image/png": "[encoded data removed]",
      "text/plain": [
       "<Figure size 432x288 with 1 Axes>"
      ]
     },
     "metadata": {
      "needs_background": "light"
     },
     "output_type": "display_data"
    }
   ],
   "source": [
    "sns.histplot(x=data['Ship Mode'], color='orange')\n",
    "plt.title('Ship Mode Preference')"
   ]
  },
  {
   "cell_type": "markdown",
   "id": "c2eb2fce",
   "metadata": {},
   "source": [
    "# Customer Analysis"
   ]
  },
  {
   "cell_type": "code",
   "execution_count": 25,
   "id": "34118785",
   "metadata": {},
   "outputs": [
    {
     "name": "stdout",
     "output_type": "stream",
     "text": [
      "Consumer\n",
      "Corporate\n",
      "Home Office\n"
     ]
    }
   ],
   "source": [
    "segmenttypes = data.groupby('Segment')\n",
    "for i,df in segmenttypes:\n",
    "  print(i)"
   ]
  },
  {
   "cell_type": "code",
   "execution_count": 26,
   "id": "ff6340c7",
   "metadata": {},
   "outputs": [
    {
     "data": {
      "text/plain": [
       "Consumer       5191\n",
       "Corporate      3020\n",
       "Home Office    1783\n",
       "Name: Segment, dtype: int64"
      ]
     },
     "execution_count": 26,
     "metadata": {},
     "output_type": "execute_result"
    }
   ],
   "source": [
    "data['Segment'].value_counts()"
   ]
  },
  {
   "cell_type": "code",
   "execution_count": 57,
   "id": "554926b4",
   "metadata": {},
   "outputs": [
    {
     "data": {
      "text/plain": [
       "<AxesSubplot:xlabel='Segment', ylabel='count'>"
      ]
     },
     "execution_count": 57,
     "metadata": {},
     "output_type": "execute_result"
    },
    {
     "data": {
      "image/png": "[encoded data removed]",
      "text/plain": [
       "<Figure size 720x504 with 1 Axes>"
      ]
     },
     "metadata": {
      "needs_background": "light"
     },
     "output_type": "display_data"
    }
   ],
   "source": [
    "plt.figure(figsize = (10, 7))\n",
    "sns.countplot(x = data[\"Segment\"],palette='tab20')"
   ]
  },
  {
   "cell_type": "markdown",
   "id": "436758a8",
   "metadata": {},
   "source": [
    "# Product Category Analysis"
   ]
  },
  {
   "cell_type": "code",
   "execution_count": 43,
   "id": "3082deb9",
   "metadata": {},
   "outputs": [
    {
     "data": {
      "text/plain": [
       "Office Supplies    6026\n",
       "Furniture          2121\n",
       "Technology         1847\n",
       "Name: Category, dtype: int64"
      ]
     },
     "execution_count": 43,
     "metadata": {},
     "output_type": "execute_result"
    }
   ],
   "source": [
    "df2=data['Category'].value_counts()\n",
    "df2"
   ]
  },
  {
   "cell_type": "code",
   "execution_count": 29,
   "id": "d7f09f12",
   "metadata": {},
   "outputs": [
    {
     "data": {
      "text/plain": [
       "Text(0.5, 1.0, 'Categories of Products')"
      ]
     },
     "execution_count": 29,
     "metadata": {},
     "output_type": "execute_result"
    },
    {
     "data": {
      "image/png": "[encoded data removed]",
      "text/plain": [
       "<Figure size 432x288 with 1 Axes>"
      ]
     },
     "metadata": {
      "needs_background": "light"
     },
     "output_type": "display_data"
    }
   ],
   "source": [
    "sns.countplot(x=data['Category'], color=\"yellow\")\n",
    "plt.title('Categories of Products')"
   ]
  },
  {
   "cell_type": "code",
   "execution_count": 31,
   "id": "2547d66d",
   "metadata": {},
   "outputs": [
    {
     "data": {
      "text/plain": [
       "Text(0.5, 1.0, 'Region-wise Ordered Product Categories')"
      ]
     },
     "execution_count": 31,
     "metadata": {},
     "output_type": "execute_result"
    },
    {
     "data": {
      "image/png": "[encoded data removed]",
      "text/plain": [
       "<Figure size 432x288 with 1 Axes>"
      ]
     },
     "metadata": {
      "needs_background": "light"
     },
     "output_type": "display_data"
    }
   ],
   "source": [
    "sns.countplot(x=data['Region'], hue=data['Category'])\n",
    "plt.title('Region-wise Ordered Product Categories')"
   ]
  },
  {
   "cell_type": "code",
   "execution_count": 49,
   "id": "2bd0a3d4",
   "metadata": {},
   "outputs": [
    {
     "data": {
      "text/plain": [
       "<AxesSubplot:xlabel='Category', ylabel='Discount'>"
      ]
     },
     "execution_count": 49,
     "metadata": {},
     "output_type": "execute_result"
    },
    {
     "data": {
      "image/png": "[encoded data removed]",
      "text/plain": [
       "<Figure size 720x504 with 1 Axes>"
      ]
     },
     "metadata": {
      "needs_background": "light"
     },
     "output_type": "display_data"
    }
   ],
   "source": [
    "plt.figure(figsize = (10, 7))\n",
    "sns.barplot(x='Category',y='Discount',data=data,palette='tab20')"
   ]
  },
  {
   "cell_type": "code",
   "execution_count": 53,
   "id": "6f5c5011",
   "metadata": {},
   "outputs": [
    {
     "data": {
      "text/plain": [
       "<AxesSubplot:xlabel='Category', ylabel='Sales'>"
      ]
     },
     "execution_count": 53,
     "metadata": {},
     "output_type": "execute_result"
    },
    {
     "data": {
      "image/png": "[encoded data removed]",
      "text/plain": [
       "<Figure size 720x504 with 1 Axes>"
      ]
     },
     "metadata": {
      "needs_background": "light"
     },
     "output_type": "display_data"
    }
   ],
   "source": [
    "plt.figure(figsize = (10, 7))\n",
    "sns.barplot(x='Category',y='Sales',data=data,palette='tab20')"
   ]
  },
  {
   "cell_type": "code",
   "execution_count": 51,
   "id": "8a7a2af3",
   "metadata": {},
   "outputs": [
    {
     "data": {
      "text/plain": [
       "<AxesSubplot:xlabel='Category', ylabel='Profit'>"
      ]
     },
     "execution_count": 51,
     "metadata": {},
     "output_type": "execute_result"
    },
    {
     "data": {
      "image/png": "[encoded data removed]",
      "text/plain": [
       "<Figure size 720x504 with 1 Axes>"
      ]
     },
     "metadata": {
      "needs_background": "light"
     },
     "output_type": "display_data"
    }
   ],
   "source": [
    "plt.figure(figsize = (10, 7))\n",
    "sns.barplot(x='Category',y='Profit',data=data,palette='tab20')"
   ]
  },
  {
   "cell_type": "code",
   "execution_count": 52,
   "id": "0c0c38d8",
   "metadata": {},
   "outputs": [
    {
     "name": "stdout",
     "output_type": "stream",
     "text": [
      "                      Profit        Sales\n",
      "Category                                 \n",
      "Furniture         18451.2728  741999.7953\n",
      "Office Supplies  122490.8008  719047.0320\n",
      "Technology       145454.9481  836154.0330\n"
     ]
    },
    {
     "data": {
      "text/plain": [
       "Text(0.5, 1.0, 'Category-wise Profit and Sales')"
      ]
     },
     "execution_count": 52,
     "metadata": {},
     "output_type": "execute_result"
    },
    {
     "data": {
      "image/png": "[encoded data removed]",
      "text/plain": [
       "<Figure size 432x288 with 1 Axes>"
      ]
     },
     "metadata": {
      "needs_background": "light"
     },
     "output_type": "display_data"
    }
   ],
   "source": [
    "ds =data.groupby('Category')['Profit','Sales'].agg('sum')\n",
    "print(ds)\n",
    "ds.plot.bar()\n",
    "plt.legend(loc='upper left')\n",
    "plt.title('Category-wise Profit and Sales')"
   ]
  },
  {
   "cell_type": "markdown",
   "id": "d9e3087e",
   "metadata": {},
   "source": [
    "# Sub-category wise analysis"
   ]
  },
  {
   "cell_type": "code",
   "execution_count": 45,
   "id": "238258a2",
   "metadata": {},
   "outputs": [
    {
     "data": {
      "text/plain": [
       "Binders        1523\n",
       "Paper          1370\n",
       "Furnishings     957\n",
       "Phones          889\n",
       "Storage         846\n",
       "Art             796\n",
       "Accessories     775\n",
       "Chairs          617\n",
       "Appliances      466\n",
       "Labels          364\n",
       "Tables          319\n",
       "Envelopes       254\n",
       "Bookcases       228\n",
       "Fasteners       217\n",
       "Supplies        190\n",
       "Machines        115\n",
       "Copiers          68\n",
       "Name: Sub-Category, dtype: int64"
      ]
     },
     "execution_count": 45,
     "metadata": {},
     "output_type": "execute_result"
    }
   ],
   "source": [
    "data['Sub-Category'].value_counts()"
   ]
  },
  {
   "cell_type": "code",
   "execution_count": 46,
   "id": "d0f443c0",
   "metadata": {},
   "outputs": [
    {
     "data": {
      "image/png": "[encoded data removed]",
      "text/plain": [
       "<Figure size 1008x432 with 1 Axes>"
      ]
     },
     "metadata": {
      "needs_background": "light"
     },
     "output_type": "display_data"
    }
   ],
   "source": [
    "plt.figure(figsize=(14,6))\n",
    "sns.countplot(x=data['Sub-Category'])\n",
    "plt.xticks(rotation=90)\n",
    "plt.show()"
   ]
  },
  {
   "cell_type": "code",
   "execution_count": 34,
   "id": "462ced71",
   "metadata": {},
   "outputs": [
    {
     "data": {
      "text/plain": [
       "Text(0.5, 1.0, 'Quantity of different Sub-Categories Ordered')"
      ]
     },
     "execution_count": 34,
     "metadata": {},
     "output_type": "execute_result"
    },
    {
     "data": {
      "image/png": "[encoded data removed]",
      "text/plain": [
       "<Figure size 720x720 with 1 Axes>"
      ]
     },
     "metadata": {},
     "output_type": "display_data"
    }
   ],
   "source": [
    "plt.figure(figsize=(10,10))\n",
    "data['Sub-Category'].value_counts().plot.pie(autopct=\"%1.1f%%\")\n",
    "plt.title('Quantity of different Sub-Categories Ordered')"
   ]
  },
  {
   "cell_type": "code",
   "execution_count": 54,
   "id": "6ca7600f",
   "metadata": {},
   "outputs": [
    {
     "data": {
      "image/png": "[encoded data removed]",
      "text/plain": [
       "<Figure size 1008x432 with 1 Axes>"
      ]
     },
     "metadata": {
      "needs_background": "light"
     },
     "output_type": "display_data"
    }
   ],
   "source": [
    "plt.figure(figsize = (14, 6))\n",
    "sns.countplot(x = 'Sub-Category', hue = 'Region', data = data, palette ='tab10')\n",
    "plt.xticks(rotation = 90, fontsize = 11)\n",
    "plt.yticks(fontsize = 11)\n",
    "plt.xlabel('Sub-Categories',fontsize = 20)\n",
    "plt.legend(loc = 5, fontsize = 10)\n",
    "plt.show()"
   ]
  },
  {
   "cell_type": "code",
   "execution_count": 59,
   "id": "e6ea73e1",
   "metadata": {},
   "outputs": [
    {
     "data": {
      "text/html": [
       "<div>\n",
       "<style scoped>\n",
       "    .dataframe tbody tr th:only-of-type {\n",
       "        vertical-align: middle;\n",
       "    }\n",
       "\n",
       "    .dataframe tbody tr th {\n",
       "        vertical-align: top;\n",
       "    }\n",
       "\n",
       "    .dataframe thead th {\n",
       "        text-align: right;\n",
       "    }\n",
       "</style>\n",
       "<table border=\"1\" class=\"dataframe\">\n",
       "  <thead>\n",
       "    <tr style=\"text-align: right;\">\n",
       "      <th></th>\n",
       "      <th></th>\n",
       "      <th>Discount</th>\n",
       "    </tr>\n",
       "    <tr>\n",
       "      <th>Category</th>\n",
       "      <th>Sub-Category</th>\n",
       "      <th></th>\n",
       "    </tr>\n",
       "  </thead>\n",
       "  <tbody>\n",
       "    <tr>\n",
       "      <th rowspan=\"4\" valign=\"top\">Furniture</th>\n",
       "      <th>Bookcases</th>\n",
       "      <td>0.211140</td>\n",
       "    </tr>\n",
       "    <tr>\n",
       "      <th>Chairs</th>\n",
       "      <td>0.170178</td>\n",
       "    </tr>\n",
       "    <tr>\n",
       "      <th>Furnishings</th>\n",
       "      <td>0.138349</td>\n",
       "    </tr>\n",
       "    <tr>\n",
       "      <th>Tables</th>\n",
       "      <td>0.261285</td>\n",
       "    </tr>\n",
       "    <tr>\n",
       "      <th rowspan=\"9\" valign=\"top\">Office Supplies</th>\n",
       "      <th>Appliances</th>\n",
       "      <td>0.166524</td>\n",
       "    </tr>\n",
       "    <tr>\n",
       "      <th>Art</th>\n",
       "      <td>0.074874</td>\n",
       "    </tr>\n",
       "    <tr>\n",
       "      <th>Binders</th>\n",
       "      <td>0.372292</td>\n",
       "    </tr>\n",
       "    <tr>\n",
       "      <th>Envelopes</th>\n",
       "      <td>0.080315</td>\n",
       "    </tr>\n",
       "    <tr>\n",
       "      <th>Fasteners</th>\n",
       "      <td>0.082028</td>\n",
       "    </tr>\n",
       "    <tr>\n",
       "      <th>Labels</th>\n",
       "      <td>0.068681</td>\n",
       "    </tr>\n",
       "    <tr>\n",
       "      <th>Paper</th>\n",
       "      <td>0.074891</td>\n",
       "    </tr>\n",
       "    <tr>\n",
       "      <th>Storage</th>\n",
       "      <td>0.074704</td>\n",
       "    </tr>\n",
       "    <tr>\n",
       "      <th>Supplies</th>\n",
       "      <td>0.076842</td>\n",
       "    </tr>\n",
       "    <tr>\n",
       "      <th rowspan=\"4\" valign=\"top\">Technology</th>\n",
       "      <th>Accessories</th>\n",
       "      <td>0.078452</td>\n",
       "    </tr>\n",
       "    <tr>\n",
       "      <th>Copiers</th>\n",
       "      <td>0.161765</td>\n",
       "    </tr>\n",
       "    <tr>\n",
       "      <th>Machines</th>\n",
       "      <td>0.306087</td>\n",
       "    </tr>\n",
       "    <tr>\n",
       "      <th>Phones</th>\n",
       "      <td>0.154556</td>\n",
       "    </tr>\n",
       "  </tbody>\n",
       "</table>\n",
       "</div>"
      ],
      "text/plain": [
       "                              Discount\n",
       "Category        Sub-Category          \n",
       "Furniture       Bookcases     0.211140\n",
       "                Chairs        0.170178\n",
       "                Furnishings   0.138349\n",
       "                Tables        0.261285\n",
       "Office Supplies Appliances    0.166524\n",
       "                Art           0.074874\n",
       "                Binders       0.372292\n",
       "                Envelopes     0.080315\n",
       "                Fasteners     0.082028\n",
       "                Labels        0.068681\n",
       "                Paper         0.074891\n",
       "                Storage       0.074704\n",
       "                Supplies      0.076842\n",
       "Technology      Accessories   0.078452\n",
       "                Copiers       0.161765\n",
       "                Machines      0.306087\n",
       "                Phones        0.154556"
      ]
     },
     "execution_count": 59,
     "metadata": {},
     "output_type": "execute_result"
    }
   ],
   "source": [
    "discounts=pd.pivot_table(data,index=('Category','Sub-Category'),values='Discount')\n",
    "pd.DataFrame(discounts)"
   ]
  },
  {
   "cell_type": "code",
   "execution_count": 60,
   "id": "03097eaf",
   "metadata": {},
   "outputs": [
    {
     "data": {
      "text/plain": [
       "<AxesSubplot:xlabel='Category,Sub-Category'>"
      ]
     },
     "execution_count": 60,
     "metadata": {},
     "output_type": "execute_result"
    },
    {
     "data": {
      "image/png": "[encoded data removed]",
      "text/plain": [
       "<Figure size 432x288 with 1 Axes>"
      ]
     },
     "metadata": {
      "needs_background": "light"
     },
     "output_type": "display_data"
    }
   ],
   "source": [
    "discounts.plot.bar(color='red')"
   ]
  },
  {
   "cell_type": "code",
   "execution_count": 62,
   "id": "717faafa",
   "metadata": {},
   "outputs": [
    {
     "data": {
      "text/plain": [
       "(array([ 0,  1,  2,  3,  4,  5,  6,  7,  8,  9, 10, 11, 12, 13, 14, 15, 16]),\n",
       " [Text(0, 0, 'Bookcases'),\n",
       "  Text(1, 0, 'Chairs'),\n",
       "  Text(2, 0, 'Labels'),\n",
       "  Text(3, 0, 'Tables'),\n",
       "  Text(4, 0, 'Storage'),\n",
       "  Text(5, 0, 'Furnishings'),\n",
       "  Text(6, 0, 'Art'),\n",
       "  Text(7, 0, 'Phones'),\n",
       "  Text(8, 0, 'Binders'),\n",
       "  Text(9, 0, 'Appliances'),\n",
       "  Text(10, 0, 'Paper'),\n",
       "  Text(11, 0, 'Accessories'),\n",
       "  Text(12, 0, 'Envelopes'),\n",
       "  Text(13, 0, 'Fasteners'),\n",
       "  Text(14, 0, 'Supplies'),\n",
       "  Text(15, 0, 'Machines'),\n",
       "  Text(16, 0, 'Copiers')])"
      ]
     },
     "execution_count": 62,
     "metadata": {},
     "output_type": "execute_result"
    },
    {
     "data": {
      "image/png": "[encoded data removed]",
      "text/plain": [
       "<Figure size 1008x576 with 1 Axes>"
      ]
     },
     "metadata": {
      "needs_background": "light"
     },
     "output_type": "display_data"
    }
   ],
   "source": [
    "plt.figure(figsize=[14,8])\n",
    "ax = sns.barplot(x=\"Sub-Category\", y=\"Sales\", data=data, palette=\"tab10\",edgecolor='black')\n",
    "plt.xlabel(\"Subcategories\",fontsize=15)\n",
    "plt.ylabel(\"Sales\",fontsize=15)\n",
    "plt.xticks(rotation=90,fontsize = 14)"
   ]
  },
  {
   "cell_type": "markdown",
   "id": "3014bae1",
   "metadata": {},
   "source": [
    "# Region-wise analysis"
   ]
  },
  {
   "cell_type": "code",
   "execution_count": 35,
   "id": "b45188b8",
   "metadata": {},
   "outputs": [
    {
     "name": "stdout",
     "output_type": "stream",
     "text": [
      "Central\n",
      "East\n",
      "South\n",
      "West\n"
     ]
    }
   ],
   "source": [
    "regions = data.groupby('Region')\n",
    "for i,df in regions:\n",
    "    print(i)"
   ]
  },
  {
   "cell_type": "code",
   "execution_count": 36,
   "id": "1283334d",
   "metadata": {},
   "outputs": [
    {
     "data": {
      "text/plain": [
       "Text(0.5, 1.0, 'Region-wise Profit and Sales')"
      ]
     },
     "execution_count": 36,
     "metadata": {},
     "output_type": "execute_result"
    },
    {
     "data": {
      "image/png": "[encoded data removed]",
      "text/plain": [
       "<Figure size 432x288 with 1 Axes>"
      ]
     },
     "metadata": {
      "needs_background": "light"
     },
     "output_type": "display_data"
    }
   ],
   "source": [
    "rw =data.groupby('Region')['Profit','Sales'].agg('sum')\n",
    "rw.plot.bar()\n",
    "plt.legend(loc='upper left')\n",
    "plt.title('Region-wise Profit and Sales')"
   ]
  },
  {
   "cell_type": "code",
   "execution_count": 37,
   "id": "e03b736f",
   "metadata": {},
   "outputs": [
    {
     "data": {
      "text/plain": [
       "<AxesSubplot:ylabel='Region'>"
      ]
     },
     "execution_count": 37,
     "metadata": {},
     "output_type": "execute_result"
    },
    {
     "data": {
      "image/png": "[encoded data removed]",
      "text/plain": [
       "<Figure size 720x720 with 1 Axes>"
      ]
     },
     "metadata": {},
     "output_type": "display_data"
    }
   ],
   "source": [
    "plt.figure(figsize=(10,10))\n",
    "data['Region'].value_counts().plot.pie(autopct=\"%1.1f%%\")"
   ]
  },
  {
   "cell_type": "code",
   "execution_count": 55,
   "id": "7add9077",
   "metadata": {},
   "outputs": [
    {
     "data": {
      "image/png": "[encoded data removed]",
      "text/plain": [
       "<Figure size 720x432 with 1 Axes>"
      ]
     },
     "metadata": {
      "needs_background": "light"
     },
     "output_type": "display_data"
    }
   ],
   "source": [
    "plt.figure(figsize = (10, 6))\n",
    "sns.countplot(x = 'Category', hue = 'Region', data = data, palette = 'tab10')\n",
    "plt.xticks(rotation = 90, fontsize = 10)\n",
    "plt.yticks(fontsize = 10)\n",
    "plt.xlabel('Categories',fontsize = 20)\n",
    "plt.legend(loc = 5, fontsize = 10)\n",
    "plt.show()"
   ]
  },
  {
   "cell_type": "markdown",
   "id": "00799cb7",
   "metadata": {},
   "source": [
    "# City wise analysis"
   ]
  },
  {
   "cell_type": "code",
   "execution_count": 39,
   "id": "fbfb25fa",
   "metadata": {},
   "outputs": [
    {
     "data": {
      "text/plain": [
       "['Aberdeen',\n",
       " 'Abilene',\n",
       " 'Akron',\n",
       " 'Albuquerque',\n",
       " 'Alexandria',\n",
       " 'Allen',\n",
       " 'Allentown',\n",
       " 'Altoona',\n",
       " 'Amarillo',\n",
       " 'Anaheim',\n",
       " 'Andover',\n",
       " 'Ann Arbor',\n",
       " 'Antioch',\n",
       " 'Apopka',\n",
       " 'Apple Valley',\n",
       " 'Appleton',\n",
       " 'Arlington',\n",
       " 'Arlington Heights',\n",
       " 'Arvada',\n",
       " 'Asheville',\n",
       " 'Athens',\n",
       " 'Atlanta',\n",
       " 'Atlantic City',\n",
       " 'Auburn',\n",
       " 'Aurora',\n",
       " 'Austin',\n",
       " 'Avondale',\n",
       " 'Bakersfield',\n",
       " 'Baltimore',\n",
       " 'Bangor',\n",
       " 'Bartlett',\n",
       " 'Bayonne',\n",
       " 'Baytown',\n",
       " 'Beaumont',\n",
       " 'Bedford',\n",
       " 'Belleville',\n",
       " 'Bellevue',\n",
       " 'Bellingham',\n",
       " 'Bethlehem',\n",
       " 'Beverly',\n",
       " 'Billings',\n",
       " 'Bloomington',\n",
       " 'Boca Raton',\n",
       " 'Boise',\n",
       " 'Bolingbrook',\n",
       " 'Bossier City',\n",
       " 'Bowling Green',\n",
       " 'Boynton Beach',\n",
       " 'Bozeman',\n",
       " 'Brentwood',\n",
       " 'Bridgeton',\n",
       " 'Bristol',\n",
       " 'Broken Arrow',\n",
       " 'Broomfield',\n",
       " 'Brownsville',\n",
       " 'Bryan',\n",
       " 'Buffalo',\n",
       " 'Buffalo Grove',\n",
       " 'Bullhead City',\n",
       " 'Burbank',\n",
       " 'Burlington',\n",
       " 'Caldwell',\n",
       " 'Camarillo',\n",
       " 'Cambridge',\n",
       " 'Canton',\n",
       " 'Carlsbad',\n",
       " 'Carol Stream',\n",
       " 'Carrollton',\n",
       " 'Cary',\n",
       " 'Cedar Hill',\n",
       " 'Cedar Rapids',\n",
       " 'Champaign',\n",
       " 'Chandler',\n",
       " 'Chapel Hill',\n",
       " 'Charlotte',\n",
       " 'Charlottesville',\n",
       " 'Chattanooga',\n",
       " 'Chesapeake',\n",
       " 'Chester',\n",
       " 'Cheyenne',\n",
       " 'Chicago',\n",
       " 'Chico',\n",
       " 'Chula Vista',\n",
       " 'Cincinnati',\n",
       " 'Citrus Heights',\n",
       " 'Clarksville',\n",
       " 'Cleveland',\n",
       " 'Clifton',\n",
       " 'Clinton',\n",
       " 'Clovis',\n",
       " 'Coachella',\n",
       " 'College Station',\n",
       " 'Colorado Springs',\n",
       " 'Columbia',\n",
       " 'Columbus',\n",
       " 'Commerce City',\n",
       " 'Concord',\n",
       " 'Conroe',\n",
       " 'Conway',\n",
       " 'Coon Rapids',\n",
       " 'Coppell',\n",
       " 'Coral Gables',\n",
       " 'Coral Springs',\n",
       " 'Corpus Christi',\n",
       " 'Costa Mesa',\n",
       " 'Cottage Grove',\n",
       " 'Covington',\n",
       " 'Cranston',\n",
       " 'Cuyahoga Falls',\n",
       " 'Dallas',\n",
       " 'Danbury',\n",
       " 'Danville',\n",
       " 'Davis',\n",
       " 'Daytona Beach',\n",
       " 'Dearborn',\n",
       " 'Dearborn Heights',\n",
       " 'Decatur',\n",
       " 'Deer Park',\n",
       " 'Delray Beach',\n",
       " 'Deltona',\n",
       " 'Denver',\n",
       " 'Des Moines',\n",
       " 'Des Plaines',\n",
       " 'Detroit',\n",
       " 'Dover',\n",
       " 'Draper',\n",
       " 'Dublin',\n",
       " 'Dubuque',\n",
       " 'Durham',\n",
       " 'Eagan',\n",
       " 'East Orange',\n",
       " 'East Point',\n",
       " 'Eau Claire',\n",
       " 'Edinburg',\n",
       " 'Edmond',\n",
       " 'Edmonds',\n",
       " 'El Cajon',\n",
       " 'El Paso',\n",
       " 'Elkhart',\n",
       " 'Elmhurst',\n",
       " 'Elyria',\n",
       " 'Encinitas',\n",
       " 'Englewood',\n",
       " 'Escondido',\n",
       " 'Eugene',\n",
       " 'Evanston',\n",
       " 'Everett',\n",
       " 'Fairfield',\n",
       " 'Fargo',\n",
       " 'Farmington',\n",
       " 'Fayetteville',\n",
       " 'Florence',\n",
       " 'Fort Collins',\n",
       " 'Fort Lauderdale',\n",
       " 'Fort Worth',\n",
       " 'Frankfort',\n",
       " 'Franklin',\n",
       " 'Freeport',\n",
       " 'Fremont',\n",
       " 'Fresno',\n",
       " 'Frisco',\n",
       " 'Gaithersburg',\n",
       " 'Garden City',\n",
       " 'Garland',\n",
       " 'Gastonia',\n",
       " 'Georgetown',\n",
       " 'Gilbert',\n",
       " 'Gladstone',\n",
       " 'Glendale',\n",
       " 'Glenview',\n",
       " 'Goldsboro',\n",
       " 'Grand Island',\n",
       " 'Grand Prairie',\n",
       " 'Grand Rapids',\n",
       " 'Grapevine',\n",
       " 'Great Falls',\n",
       " 'Greeley',\n",
       " 'Green Bay',\n",
       " 'Greensboro',\n",
       " 'Greenville',\n",
       " 'Greenwood',\n",
       " 'Gresham',\n",
       " 'Grove City',\n",
       " 'Gulfport',\n",
       " 'Hackensack',\n",
       " 'Hagerstown',\n",
       " 'Haltom City',\n",
       " 'Hamilton',\n",
       " 'Hampton',\n",
       " 'Harlingen',\n",
       " 'Harrisonburg',\n",
       " 'Hattiesburg',\n",
       " 'Helena',\n",
       " 'Hempstead',\n",
       " 'Henderson',\n",
       " 'Hendersonville',\n",
       " 'Hesperia',\n",
       " 'Hialeah',\n",
       " 'Hickory',\n",
       " 'Highland Park',\n",
       " 'Hillsboro',\n",
       " 'Holland',\n",
       " 'Hollywood',\n",
       " 'Holyoke',\n",
       " 'Homestead',\n",
       " 'Hoover',\n",
       " 'Hot Springs',\n",
       " 'Houston',\n",
       " 'Huntington Beach',\n",
       " 'Huntsville',\n",
       " 'Independence',\n",
       " 'Indianapolis',\n",
       " 'Inglewood',\n",
       " 'Iowa City',\n",
       " 'Irving',\n",
       " 'Jackson',\n",
       " 'Jacksonville',\n",
       " 'Jamestown',\n",
       " 'Jefferson City',\n",
       " 'Johnson City',\n",
       " 'Jonesboro',\n",
       " 'Jupiter',\n",
       " 'Keller',\n",
       " 'Kenner',\n",
       " 'Kenosha',\n",
       " 'Kent',\n",
       " 'Kirkwood',\n",
       " 'Kissimmee',\n",
       " 'Knoxville',\n",
       " 'La Crosse',\n",
       " 'La Mesa',\n",
       " 'La Porte',\n",
       " 'La Quinta',\n",
       " 'Lafayette',\n",
       " 'Laguna Niguel',\n",
       " 'Lake Charles',\n",
       " 'Lake Elsinore',\n",
       " 'Lake Forest',\n",
       " 'Lakeland',\n",
       " 'Lakeville',\n",
       " 'Lakewood',\n",
       " 'Lancaster',\n",
       " 'Lansing',\n",
       " 'Laredo',\n",
       " 'Las Cruces',\n",
       " 'Las Vegas',\n",
       " 'Laurel',\n",
       " 'Lawrence',\n",
       " 'Lawton',\n",
       " 'Layton',\n",
       " 'League City',\n",
       " 'Lebanon',\n",
       " 'Lehi',\n",
       " 'Leominster',\n",
       " 'Lewiston',\n",
       " 'Lincoln Park',\n",
       " 'Linden',\n",
       " 'Lindenhurst',\n",
       " 'Little Rock',\n",
       " 'Littleton',\n",
       " 'Lodi',\n",
       " 'Logan',\n",
       " 'Long Beach',\n",
       " 'Longmont',\n",
       " 'Longview',\n",
       " 'Lorain',\n",
       " 'Los Angeles',\n",
       " 'Louisville',\n",
       " 'Loveland',\n",
       " 'Lowell',\n",
       " 'Lubbock',\n",
       " 'Macon',\n",
       " 'Madison',\n",
       " 'Malden',\n",
       " 'Manchester',\n",
       " 'Manhattan',\n",
       " 'Mansfield',\n",
       " 'Manteca',\n",
       " 'Maple Grove',\n",
       " 'Margate',\n",
       " 'Marietta',\n",
       " 'Marion',\n",
       " 'Marlborough',\n",
       " 'Marysville',\n",
       " 'Mason',\n",
       " 'Mcallen',\n",
       " 'Medford',\n",
       " 'Medina',\n",
       " 'Melbourne',\n",
       " 'Memphis',\n",
       " 'Mentor',\n",
       " 'Meriden',\n",
       " 'Meridian',\n",
       " 'Mesa',\n",
       " 'Mesquite',\n",
       " 'Miami',\n",
       " 'Middletown',\n",
       " 'Midland',\n",
       " 'Milford',\n",
       " 'Milwaukee',\n",
       " 'Minneapolis',\n",
       " 'Miramar',\n",
       " 'Mishawaka',\n",
       " 'Mission Viejo',\n",
       " 'Missoula',\n",
       " 'Missouri City',\n",
       " 'Mobile',\n",
       " 'Modesto',\n",
       " 'Monroe',\n",
       " 'Montebello',\n",
       " 'Montgomery',\n",
       " 'Moorhead',\n",
       " 'Moreno Valley',\n",
       " 'Morgan Hill',\n",
       " 'Morristown',\n",
       " 'Mount Pleasant',\n",
       " 'Mount Vernon',\n",
       " 'Murfreesboro',\n",
       " 'Murray',\n",
       " 'Murrieta',\n",
       " 'Muskogee',\n",
       " 'Naperville',\n",
       " 'Nashua',\n",
       " 'Nashville',\n",
       " 'New Albany',\n",
       " 'New Bedford',\n",
       " 'New Brunswick',\n",
       " 'New Castle',\n",
       " 'New Rochelle',\n",
       " 'New York City',\n",
       " 'Newark',\n",
       " 'Newport News',\n",
       " 'Niagara Falls',\n",
       " 'Noblesville',\n",
       " 'Norfolk',\n",
       " 'Normal',\n",
       " 'Norman',\n",
       " 'North Charleston',\n",
       " 'North Las Vegas',\n",
       " 'North Miami',\n",
       " 'Norwich',\n",
       " 'Oak Park',\n",
       " 'Oakland',\n",
       " 'Oceanside',\n",
       " 'Odessa',\n",
       " 'Oklahoma City',\n",
       " 'Olathe',\n",
       " 'Olympia',\n",
       " 'Omaha',\n",
       " 'Ontario',\n",
       " 'Orange',\n",
       " 'Orem',\n",
       " 'Orland Park',\n",
       " 'Orlando',\n",
       " 'Ormond Beach',\n",
       " 'Oswego',\n",
       " 'Overland Park',\n",
       " 'Owensboro',\n",
       " 'Oxnard',\n",
       " 'Palatine',\n",
       " 'Palm Coast',\n",
       " 'Park Ridge',\n",
       " 'Parker',\n",
       " 'Parma',\n",
       " 'Pasadena',\n",
       " 'Pasco',\n",
       " 'Passaic',\n",
       " 'Paterson',\n",
       " 'Pearland',\n",
       " 'Pembroke Pines',\n",
       " 'Pensacola',\n",
       " 'Peoria',\n",
       " 'Perth Amboy',\n",
       " 'Pharr',\n",
       " 'Philadelphia',\n",
       " 'Phoenix',\n",
       " 'Pico Rivera',\n",
       " 'Pine Bluff',\n",
       " 'Plainfield',\n",
       " 'Plano',\n",
       " 'Plantation',\n",
       " 'Pleasant Grove',\n",
       " 'Pocatello',\n",
       " 'Pomona',\n",
       " 'Pompano Beach',\n",
       " 'Port Arthur',\n",
       " 'Port Orange',\n",
       " 'Port Saint Lucie',\n",
       " 'Portage',\n",
       " 'Portland',\n",
       " 'Providence',\n",
       " 'Provo',\n",
       " 'Pueblo',\n",
       " 'Quincy',\n",
       " 'Raleigh',\n",
       " 'Rancho Cucamonga',\n",
       " 'Rapid City',\n",
       " 'Reading',\n",
       " 'Redding',\n",
       " 'Redlands',\n",
       " 'Redmond',\n",
       " 'Redondo Beach',\n",
       " 'Redwood City',\n",
       " 'Reno',\n",
       " 'Renton',\n",
       " 'Revere',\n",
       " 'Richardson',\n",
       " 'Richmond',\n",
       " 'Rio Rancho',\n",
       " 'Riverside',\n",
       " 'Rochester',\n",
       " 'Rochester Hills',\n",
       " 'Rock Hill',\n",
       " 'Rockford',\n",
       " 'Rockville',\n",
       " 'Rogers',\n",
       " 'Rome',\n",
       " 'Romeoville',\n",
       " 'Roseville',\n",
       " 'Roswell',\n",
       " 'Round Rock',\n",
       " 'Royal Oak',\n",
       " 'Sacramento',\n",
       " 'Saginaw',\n",
       " 'Saint Charles',\n",
       " 'Saint Cloud',\n",
       " 'Saint Louis',\n",
       " 'Saint Paul',\n",
       " 'Saint Peters',\n",
       " 'Saint Petersburg',\n",
       " 'Salem',\n",
       " 'Salinas',\n",
       " 'Salt Lake City',\n",
       " 'San Angelo',\n",
       " 'San Antonio',\n",
       " 'San Bernardino',\n",
       " 'San Clemente',\n",
       " 'San Diego',\n",
       " 'San Francisco',\n",
       " 'San Gabriel',\n",
       " 'San Jose',\n",
       " 'San Luis Obispo',\n",
       " 'San Marcos',\n",
       " 'San Mateo',\n",
       " 'Sandy Springs',\n",
       " 'Sanford',\n",
       " 'Santa Ana',\n",
       " 'Santa Barbara',\n",
       " 'Santa Clara',\n",
       " 'Santa Fe',\n",
       " 'Santa Maria',\n",
       " 'Scottsdale',\n",
       " 'Seattle',\n",
       " 'Sheboygan',\n",
       " 'Shelton',\n",
       " 'Sierra Vista',\n",
       " 'Sioux Falls',\n",
       " 'Skokie',\n",
       " 'Smyrna',\n",
       " 'South Bend',\n",
       " 'Southaven',\n",
       " 'Sparks',\n",
       " 'Spokane',\n",
       " 'Springdale',\n",
       " 'Springfield',\n",
       " 'Sterling Heights',\n",
       " 'Stockton',\n",
       " 'Suffolk',\n",
       " 'Summerville',\n",
       " 'Sunnyvale',\n",
       " 'Superior',\n",
       " 'Tallahassee',\n",
       " 'Tamarac',\n",
       " 'Tampa',\n",
       " 'Taylor',\n",
       " 'Temecula',\n",
       " 'Tempe',\n",
       " 'Texarkana',\n",
       " 'Texas City',\n",
       " 'The Colony',\n",
       " 'Thomasville',\n",
       " 'Thornton',\n",
       " 'Thousand Oaks',\n",
       " 'Tigard',\n",
       " 'Tinley Park',\n",
       " 'Toledo',\n",
       " 'Torrance',\n",
       " 'Trenton',\n",
       " 'Troy',\n",
       " 'Tucson',\n",
       " 'Tulsa',\n",
       " 'Tuscaloosa',\n",
       " 'Twin Falls',\n",
       " 'Tyler',\n",
       " 'Urbandale',\n",
       " 'Utica',\n",
       " 'Vacaville',\n",
       " 'Vallejo',\n",
       " 'Vancouver',\n",
       " 'Vineland',\n",
       " 'Virginia Beach',\n",
       " 'Visalia',\n",
       " 'Waco',\n",
       " 'Warner Robins',\n",
       " 'Warwick',\n",
       " 'Washington',\n",
       " 'Waterbury',\n",
       " 'Waterloo',\n",
       " 'Watertown',\n",
       " 'Waukesha',\n",
       " 'Wausau',\n",
       " 'Waynesboro',\n",
       " 'West Allis',\n",
       " 'West Jordan',\n",
       " 'West Palm Beach',\n",
       " 'Westfield',\n",
       " 'Westland',\n",
       " 'Westminster',\n",
       " 'Wheeling',\n",
       " 'Whittier',\n",
       " 'Wichita',\n",
       " 'Wilmington',\n",
       " 'Wilson',\n",
       " 'Woodbury',\n",
       " 'Woodland',\n",
       " 'Woodstock',\n",
       " 'Woonsocket',\n",
       " 'Yonkers',\n",
       " 'York',\n",
       " 'Yucaipa',\n",
       " 'Yuma']"
      ]
     },
     "execution_count": 39,
     "metadata": {},
     "output_type": "execute_result"
    }
   ],
   "source": [
    "city = []\n",
    "cities = data.groupby('City')\n",
    "for i,df in cities:\n",
    "    city.append(i)\n",
    "city"
   ]
  },
  {
   "cell_type": "code",
   "execution_count": 40,
   "id": "ef1546bc",
   "metadata": {},
   "outputs": [
    {
     "data": {
      "text/plain": [
       "531"
      ]
     },
     "execution_count": 40,
     "metadata": {},
     "output_type": "execute_result"
    }
   ],
   "source": [
    "len(city)"
   ]
  },
  {
   "cell_type": "code",
   "execution_count": 41,
   "id": "10df0225",
   "metadata": {},
   "outputs": [
    {
     "data": {
      "text/plain": [
       "New York City    915\n",
       "Los Angeles      747\n",
       "Philadelphia     537\n",
       "San Francisco    510\n",
       "Seattle          428\n",
       "                ... \n",
       "Chapel Hill        1\n",
       "Rock Hill          1\n",
       "Aberdeen           1\n",
       "Montebello         1\n",
       "Champaign          1\n",
       "Name: City, Length: 531, dtype: int64"
      ]
     },
     "execution_count": 41,
     "metadata": {},
     "output_type": "execute_result"
    }
   ],
   "source": [
    "data['City'].value_counts()"
   ]
  },
  {
   "cell_type": "code",
   "execution_count": 42,
   "id": "99329af4",
   "metadata": {},
   "outputs": [
    {
     "data": {
      "text/html": [
       "<div>\n",
       "<style scoped>\n",
       "    .dataframe tbody tr th:only-of-type {\n",
       "        vertical-align: middle;\n",
       "    }\n",
       "\n",
       "    .dataframe tbody tr th {\n",
       "        vertical-align: top;\n",
       "    }\n",
       "\n",
       "    .dataframe thead th {\n",
       "        text-align: right;\n",
       "    }\n",
       "</style>\n",
       "<table border=\"1\" class=\"dataframe\">\n",
       "  <thead>\n",
       "    <tr style=\"text-align: right;\">\n",
       "      <th></th>\n",
       "      <th>Ship Mode</th>\n",
       "      <th>Segment</th>\n",
       "      <th>Country</th>\n",
       "      <th>City</th>\n",
       "      <th>State</th>\n",
       "      <th>Postal Code</th>\n",
       "      <th>Region</th>\n",
       "      <th>Category</th>\n",
       "      <th>Sub-Category</th>\n",
       "      <th>Sales</th>\n",
       "      <th>Quantity</th>\n",
       "      <th>Discount</th>\n",
       "      <th>Profit</th>\n",
       "      <th>Cost</th>\n",
       "      <th>Profit%</th>\n",
       "    </tr>\n",
       "  </thead>\n",
       "  <tbody>\n",
       "    <tr>\n",
       "      <th>53</th>\n",
       "      <td>Standard Class</td>\n",
       "      <td>Corporate</td>\n",
       "      <td>United States</td>\n",
       "      <td>New York City</td>\n",
       "      <td>New York</td>\n",
       "      <td>10024</td>\n",
       "      <td>East</td>\n",
       "      <td>Office Supplies</td>\n",
       "      <td>Fasteners</td>\n",
       "      <td>15.260</td>\n",
       "      <td>7</td>\n",
       "      <td>0.0</td>\n",
       "      <td>6.2566</td>\n",
       "      <td>9.0034</td>\n",
       "      <td>69.491525</td>\n",
       "    </tr>\n",
       "    <tr>\n",
       "      <th>54</th>\n",
       "      <td>Standard Class</td>\n",
       "      <td>Corporate</td>\n",
       "      <td>United States</td>\n",
       "      <td>New York City</td>\n",
       "      <td>New York</td>\n",
       "      <td>10024</td>\n",
       "      <td>East</td>\n",
       "      <td>Technology</td>\n",
       "      <td>Phones</td>\n",
       "      <td>1029.950</td>\n",
       "      <td>5</td>\n",
       "      <td>0.0</td>\n",
       "      <td>298.6855</td>\n",
       "      <td>731.2645</td>\n",
       "      <td>40.845070</td>\n",
       "    </tr>\n",
       "    <tr>\n",
       "      <th>70</th>\n",
       "      <td>Standard Class</td>\n",
       "      <td>Consumer</td>\n",
       "      <td>United States</td>\n",
       "      <td>New York City</td>\n",
       "      <td>New York</td>\n",
       "      <td>10009</td>\n",
       "      <td>East</td>\n",
       "      <td>Office Supplies</td>\n",
       "      <td>Binders</td>\n",
       "      <td>4.616</td>\n",
       "      <td>1</td>\n",
       "      <td>0.2</td>\n",
       "      <td>1.7310</td>\n",
       "      <td>2.8850</td>\n",
       "      <td>60.000000</td>\n",
       "    </tr>\n",
       "    <tr>\n",
       "      <th>96</th>\n",
       "      <td>Second Class</td>\n",
       "      <td>Home Office</td>\n",
       "      <td>United States</td>\n",
       "      <td>New York City</td>\n",
       "      <td>New York</td>\n",
       "      <td>10009</td>\n",
       "      <td>East</td>\n",
       "      <td>Furniture</td>\n",
       "      <td>Furnishings</td>\n",
       "      <td>96.530</td>\n",
       "      <td>7</td>\n",
       "      <td>0.0</td>\n",
       "      <td>40.5426</td>\n",
       "      <td>55.9874</td>\n",
       "      <td>72.413793</td>\n",
       "    </tr>\n",
       "    <tr>\n",
       "      <th>110</th>\n",
       "      <td>Standard Class</td>\n",
       "      <td>Corporate</td>\n",
       "      <td>United States</td>\n",
       "      <td>New York City</td>\n",
       "      <td>New York</td>\n",
       "      <td>10035</td>\n",
       "      <td>East</td>\n",
       "      <td>Furniture</td>\n",
       "      <td>Furnishings</td>\n",
       "      <td>41.960</td>\n",
       "      <td>2</td>\n",
       "      <td>0.0</td>\n",
       "      <td>10.9096</td>\n",
       "      <td>31.0504</td>\n",
       "      <td>35.135135</td>\n",
       "    </tr>\n",
       "    <tr>\n",
       "      <th>...</th>\n",
       "      <td>...</td>\n",
       "      <td>...</td>\n",
       "      <td>...</td>\n",
       "      <td>...</td>\n",
       "      <td>...</td>\n",
       "      <td>...</td>\n",
       "      <td>...</td>\n",
       "      <td>...</td>\n",
       "      <td>...</td>\n",
       "      <td>...</td>\n",
       "      <td>...</td>\n",
       "      <td>...</td>\n",
       "      <td>...</td>\n",
       "      <td>...</td>\n",
       "      <td>...</td>\n",
       "    </tr>\n",
       "    <tr>\n",
       "      <th>9926</th>\n",
       "      <td>First Class</td>\n",
       "      <td>Corporate</td>\n",
       "      <td>United States</td>\n",
       "      <td>New York City</td>\n",
       "      <td>New York</td>\n",
       "      <td>10035</td>\n",
       "      <td>East</td>\n",
       "      <td>Technology</td>\n",
       "      <td>Phones</td>\n",
       "      <td>199.980</td>\n",
       "      <td>2</td>\n",
       "      <td>0.0</td>\n",
       "      <td>53.9946</td>\n",
       "      <td>145.9854</td>\n",
       "      <td>36.986301</td>\n",
       "    </tr>\n",
       "    <tr>\n",
       "      <th>9927</th>\n",
       "      <td>First Class</td>\n",
       "      <td>Corporate</td>\n",
       "      <td>United States</td>\n",
       "      <td>New York City</td>\n",
       "      <td>New York</td>\n",
       "      <td>10035</td>\n",
       "      <td>East</td>\n",
       "      <td>Office Supplies</td>\n",
       "      <td>Storage</td>\n",
       "      <td>83.920</td>\n",
       "      <td>4</td>\n",
       "      <td>0.0</td>\n",
       "      <td>20.1408</td>\n",
       "      <td>63.7792</td>\n",
       "      <td>31.578947</td>\n",
       "    </tr>\n",
       "    <tr>\n",
       "      <th>9938</th>\n",
       "      <td>Standard Class</td>\n",
       "      <td>Corporate</td>\n",
       "      <td>United States</td>\n",
       "      <td>New York City</td>\n",
       "      <td>New York</td>\n",
       "      <td>10009</td>\n",
       "      <td>East</td>\n",
       "      <td>Furniture</td>\n",
       "      <td>Furnishings</td>\n",
       "      <td>60.350</td>\n",
       "      <td>5</td>\n",
       "      <td>0.0</td>\n",
       "      <td>19.9155</td>\n",
       "      <td>40.4345</td>\n",
       "      <td>49.253731</td>\n",
       "    </tr>\n",
       "    <tr>\n",
       "      <th>9939</th>\n",
       "      <td>Standard Class</td>\n",
       "      <td>Corporate</td>\n",
       "      <td>United States</td>\n",
       "      <td>New York City</td>\n",
       "      <td>New York</td>\n",
       "      <td>10009</td>\n",
       "      <td>East</td>\n",
       "      <td>Office Supplies</td>\n",
       "      <td>Supplies</td>\n",
       "      <td>35.520</td>\n",
       "      <td>4</td>\n",
       "      <td>0.0</td>\n",
       "      <td>9.9456</td>\n",
       "      <td>25.5744</td>\n",
       "      <td>38.888889</td>\n",
       "    </tr>\n",
       "    <tr>\n",
       "      <th>9940</th>\n",
       "      <td>Standard Class</td>\n",
       "      <td>Corporate</td>\n",
       "      <td>United States</td>\n",
       "      <td>New York City</td>\n",
       "      <td>New York</td>\n",
       "      <td>10009</td>\n",
       "      <td>East</td>\n",
       "      <td>Office Supplies</td>\n",
       "      <td>Art</td>\n",
       "      <td>11.200</td>\n",
       "      <td>7</td>\n",
       "      <td>0.0</td>\n",
       "      <td>4.8160</td>\n",
       "      <td>6.3840</td>\n",
       "      <td>75.438596</td>\n",
       "    </tr>\n",
       "  </tbody>\n",
       "</table>\n",
       "<p>915 rows × 15 columns</p>\n",
       "</div>"
      ],
      "text/plain": [
       "           Ship Mode      Segment        Country           City     State  \\\n",
       "53    Standard Class    Corporate  United States  New York City  New York   \n",
       "54    Standard Class    Corporate  United States  New York City  New York   \n",
       "70    Standard Class     Consumer  United States  New York City  New York   \n",
       "96      Second Class  Home Office  United States  New York City  New York   \n",
       "110   Standard Class    Corporate  United States  New York City  New York   \n",
       "...              ...          ...            ...            ...       ...   \n",
       "9926     First Class    Corporate  United States  New York City  New York   \n",
       "9927     First Class    Corporate  United States  New York City  New York   \n",
       "9938  Standard Class    Corporate  United States  New York City  New York   \n",
       "9939  Standard Class    Corporate  United States  New York City  New York   \n",
       "9940  Standard Class    Corporate  United States  New York City  New York   \n",
       "\n",
       "      Postal Code Region         Category Sub-Category     Sales  Quantity  \\\n",
       "53          10024   East  Office Supplies    Fasteners    15.260         7   \n",
       "54          10024   East       Technology       Phones  1029.950         5   \n",
       "70          10009   East  Office Supplies      Binders     4.616         1   \n",
       "96          10009   East        Furniture  Furnishings    96.530         7   \n",
       "110         10035   East        Furniture  Furnishings    41.960         2   \n",
       "...           ...    ...              ...          ...       ...       ...   \n",
       "9926        10035   East       Technology       Phones   199.980         2   \n",
       "9927        10035   East  Office Supplies      Storage    83.920         4   \n",
       "9938        10009   East        Furniture  Furnishings    60.350         5   \n",
       "9939        10009   East  Office Supplies     Supplies    35.520         4   \n",
       "9940        10009   East  Office Supplies          Art    11.200         7   \n",
       "\n",
       "      Discount    Profit      Cost    Profit%  \n",
       "53         0.0    6.2566    9.0034  69.491525  \n",
       "54         0.0  298.6855  731.2645  40.845070  \n",
       "70         0.2    1.7310    2.8850  60.000000  \n",
       "96         0.0   40.5426   55.9874  72.413793  \n",
       "110        0.0   10.9096   31.0504  35.135135  \n",
       "...        ...       ...       ...        ...  \n",
       "9926       0.0   53.9946  145.9854  36.986301  \n",
       "9927       0.0   20.1408   63.7792  31.578947  \n",
       "9938       0.0   19.9155   40.4345  49.253731  \n",
       "9939       0.0    9.9456   25.5744  38.888889  \n",
       "9940       0.0    4.8160    6.3840  75.438596  \n",
       "\n",
       "[915 rows x 15 columns]"
      ]
     },
     "execution_count": 42,
     "metadata": {},
     "output_type": "execute_result"
    }
   ],
   "source": [
    "data[data['City']=='New York City']"
   ]
  },
  {
   "cell_type": "code",
   "execution_count": 58,
   "id": "cc97d429",
   "metadata": {},
   "outputs": [
    {
     "data": {
      "image/png": "[encoded data removed]",
      "text/plain": [
       "<Figure size 1008x288 with 1 Axes>"
      ]
     },
     "metadata": {
      "needs_background": "light"
     },
     "output_type": "display_data"
    }
   ],
   "source": [
    "plt.figure(figsize=(14,4))\n",
    "sns.countplot(x=data['State'])\n",
    "plt.xticks(rotation=90,fontsize = 14)\n",
    "plt.yticks(fontsize=14)\n",
    "plt.show()"
   ]
  },
  {
   "cell_type": "raw",
   "id": "6d3655c6",
   "metadata": {},
   "source": [
    "So from the above visualizations I derive that:\n",
    "    1 The more the sales the more the profit\n",
    "    2 California and new york are the top most sales and profit making states. We can have some more schemes and         discounts over there to attract more customers and gain more profit\n",
    "    3 West region have the largest customer density so come up with new schemes to attract more customers\n",
    "    4 We need to produce less furniture items as we need to give more discounts on it and sales are less compared       to technology, we should look more into technology types of products.\n",
    "    5 New York city has the most number of outlets and yet it isn't the highest profit making market, we need to         look in this matter\n",
    "    6 Office supplies occupies the largest product density and yet it isn't the most profit making product, we           should increase the amount of technology products as it makes more profit and come up with various schemes         for office supplies \n",
    "    7 Office supplies items are being given the most discounts and makes the most sales and yet isn't the most           profit making. we should limit its production and focus on other sectors.\n",
    "    8 The most preffered mode of shipping is standard mode so it should be made available in regions with highest       sales\n",
    "    "
   ]
  },
  {
   "cell_type": "markdown",
   "id": "5e443199",
   "metadata": {},
   "source": [
    "# Thank you!!!"
   ]
  },
  {
   "cell_type": "code",
   "execution_count": null,
   "id": "6cf2c773",
   "metadata": {},
   "outputs": [],
   "source": []
  }
 ],
 "metadata": {
  "kernelspec": {
   "display_name": "Python 3",
   "language": "python",
   "name": "python3"
  },
  "language_info": {
   "codemirror_mode": {
    "name": "ipython",
    "version": 3
   },
   "file_extension": ".py",
   "mimetype": "text/x-python",
   "name": "python",
   "nbconvert_exporter": "python",
   "pygments_lexer": "ipython3",
   "version": "3.8.8"
  }
 },
 "nbformat": 4,
 "nbformat_minor": 5
}
